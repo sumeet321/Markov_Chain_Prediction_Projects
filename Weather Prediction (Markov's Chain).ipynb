{
 "cells": [
  {
   "cell_type": "markdown",
   "id": "56ca0090",
   "metadata": {},
   "source": [
    "## Set-Up"
   ]
  },
  {
   "cell_type": "code",
   "execution_count": 20,
   "id": "945f55c3",
   "metadata": {},
   "outputs": [
    {
     "name": "stdout",
     "output_type": "stream",
     "text": [
      "% Chance of a sunny day: 20\n",
      "% Chance of cloudy day: 20\n",
      "% Chance of rainy day: 60\n",
      "% Chance of cloudy day after a sunny day: 70\n",
      "% Chance of cloudy day after a cloudy day: 10\n",
      "% Chance of cloudy day after a rainy day: 20\n",
      "What is the weather condition today? (S)unny, (C)loudy, (R)ainy: s\n",
      "After how many days do you want to predict?: 6\n",
      "\n",
      "After 6 days...\n",
      "% Chance of rain: 34.260400000000004 \n",
      "% Chance of clouds: 32.94030000000001 \n",
      "% Chance of sun: 32.799299999999995\n",
      "['Chance of rain', 'Chance of clouds', 'Chance of sun']\n",
      "[34.260400000000004, 32.94030000000001, 32.799299999999995]\n"
     ]
    },
    {
     "data": {
      "image/png": "[encoded data removed]",
      "text/plain": [
       "<Figure size 640x480 with 1 Axes>"
      ]
     },
     "metadata": {},
     "output_type": "display_data"
    }
   ],
   "source": [
    "import numpy as np\n",
    "import matplotlib.pyplot as plt\n",
    "\n",
    "\n",
    "s = float(input(\"% Chance of a sunny day: \")) / 100\n",
    "c = float(input(\"% Chance of cloudy day: \")) / 100\n",
    "r = float(input(\"% Chance of rainy day: \")) / 100\n",
    "s2 = float(input(\"% Chance of cloudy day after a sunny day: \")) / 100\n",
    "c2 = float(input(\"% Chance of cloudy day after a cloudy day: \")) / 100\n",
    "r2 = float(input(\"% Chance of cloudy day after a rainy day: \")) / 100\n",
    "\n",
    "condition = input(\"What is the weather condition today? (S)unny, (C)loudy, (R)ainy: \").lower()\n",
    "if condition == 's':\n",
    "    s0 = np.matrix([[1], [0], [0]]) # Columns Matrix\n",
    "elif condition == 'c':\n",
    "    s0 = np.matrix([[0], [1], [0]]) # Column Matrix\n",
    "elif condition == 'r':\n",
    "    s0 = np.matrix([[0], [0], [1]]) # Column Matrix\n",
    "else:\n",
    "    print(\"Wrong input! Please choose r, c, or s.\")\n",
    "    quit()\n",
    "\n",
    "rt = 1 - (r+r2)\n",
    "ct = 1 - (c+c2)\n",
    "st = 1 - (s+s2)\n",
    "\n",
    "a = np.matrix([[s, c, r], [s2, c2, r2], [st, ct, rt]]) # Three row matrices\n",
    "\n",
    "# s1 = as0 --> after one day\n",
    "days = int(input(\"After how many days do you want to predict?: \"))\n",
    "for i in range(days):3\n",
    "    s0 = a * s0\n",
    "    \n",
    "rain_prediction = s0.item(0)*100\n",
    "cloud_prediction = s0.item(1)*100\n",
    "sunny_prediction = s0.item(2)*100\n",
    "\n",
    "weather_condition = [rain_prediction, cloud_prediction, sunny_prediction]\n",
    "\n",
    "\n",
    "print(\"\\nAfter\" , days , \"days...\\n% Chance of rain:\" , rain_prediction, \"\\n% Chance of clouds:\" , cloud_prediction, \"\\n% Chance of sun:\" , sunny_prediction)\n",
    "\n",
    "conditions = ['Chance of rain', 'Chance of clouds', 'Chance of sun']\n",
    "\n",
    "print(conditions)\n",
    "print(weather_condition)\n",
    "\n",
    "plt.bar(conditions, weather_condition)\n",
    "plt.xticks(conditions, size = 8)\n",
    "plt.ylabel(\"Percentages (%)\")\n",
    "plt.xlabel(\"Weather Conditions\")\n",
    "plt.title(\"After \" + str(days) + \" days\")\n",
    "\n",
    "plt.show()"
   ]
  }
 ],
 "metadata": {
  "kernelspec": {
   "display_name": "Python 3 (ipykernel)",
   "language": "python",
   "name": "python3"
  },
  "language_info": {
   "codemirror_mode": {
    "name": "ipython",
    "version": 3
   },
   "file_extension": ".py",
   "mimetype": "text/x-python",
   "name": "python",
   "nbconvert_exporter": "python",
   "pygments_lexer": "ipython3",
   "version": "3.9.13"
  }
 },
 "nbformat": 4,
 "nbformat_minor": 5
}
